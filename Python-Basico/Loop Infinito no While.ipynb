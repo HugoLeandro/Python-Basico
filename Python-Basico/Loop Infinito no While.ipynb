{
 "cells": [
  {
   "cell_type": "markdown",
   "metadata": {},
   "source": [
    "# Cuidado com o while -> Loop Infinito\n",
    "\n",
    "Sempre que for usar o comando while, lembre-se de ter certeza que o programa vai terminar em algum momento\n",
    "\n",
    "### Exemplo\n",
    "\n",
    "Digamos que temos uma lista de vendedores e as quantidades vendidas e queremos identificar todos os vendedores que bateram a meta de 50 vendas."
   ]
  },
  {
   "cell_type": "code",
   "execution_count": 1,
   "metadata": {},
   "outputs": [
    {
     "name": "stdout",
     "output_type": "stream",
     "text": [
      "Maria bateu a meta, vendeu 941 produtos\n",
      "José bateu a meta, vendeu 852 produtos\n",
      "Antônio bateu a meta, vendeu 783 produtos\n",
      "João bateu a meta, vendeu 714 produtos\n",
      "Francisco bateu a meta, vendeu 697 produtos\n",
      "Ana bateu a meta, vendeu 686 produtos\n",
      "Luiz bateu a meta, vendeu 685 produtos\n",
      "Paulo bateu a meta, vendeu 670 produtos\n",
      "Carlos bateu a meta, vendeu 631 produtos\n",
      "Manoel bateu a meta, vendeu 453 produtos\n",
      "Pedro bateu a meta, vendeu 386 produtos\n",
      "Francisca bateu a meta, vendeu 371 produtos\n",
      "Marcos bateu a meta, vendeu 294 produtos\n",
      "Raimundo bateu a meta, vendeu 269 produtos\n",
      "Sebastião bateu a meta, vendeu 259 produtos\n",
      "Antônia bateu a meta, vendeu 218 produtos\n",
      "Marcelo bateu a meta, vendeu 208 produtos\n",
      "Jorge bateu a meta, vendeu 163 produtos\n",
      "Márcia bateu a meta, vendeu 125 produtos\n",
      "Geraldo bateu a meta, vendeu 102 produtos\n",
      "Adriana bateu a meta, vendeu 87 produtos\n"
     ]
    }
   ],
   "source": [
    "vendas = [941, 852, 783, 714, 697, 686, 685, 670, 631, 453, 386, 371, 294, 269, 259, 218, 208, 163, 125, 102, 87, 47, 7]\n",
    "vendedores = ['Maria', 'José', 'Antônio', 'João', 'Francisco', 'Ana', 'Luiz', 'Paulo', 'Carlos', 'Manoel', 'Pedro', 'Francisca', 'Marcos', 'Raimundo', 'Sebastião', 'Antônia', 'Marcelo', 'Jorge', 'Márcia', 'Geraldo', 'Adriana', 'Sandra', 'Luis']\n",
    "meta = 50\n",
    "\n",
    "i = 0 \n",
    "\n",
    "while vendas[i] > meta:\n",
    "    print(\"{} bateu a meta, vendeu {} produtos\".format(vendedores[i], vendas[i]))\n",
    "    i += 1\n",
    "    "
   ]
  },
  {
   "cell_type": "code",
   "execution_count": null,
   "metadata": {},
   "outputs": [],
   "source": []
  }
 ],
 "metadata": {
  "kernelspec": {
   "display_name": "Python 3 (ipykernel)",
   "language": "python",
   "name": "python3"
  },
  "language_info": {
   "codemirror_mode": {
    "name": "ipython",
    "version": 3
   },
   "file_extension": ".py",
   "mimetype": "text/x-python",
   "name": "python",
   "nbconvert_exporter": "python",
   "pygments_lexer": "ipython3",
   "version": "3.9.13"
  }
 },
 "nbformat": 4,
 "nbformat_minor": 4
}
